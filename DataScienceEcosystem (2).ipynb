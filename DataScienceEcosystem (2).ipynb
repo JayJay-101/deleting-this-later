{
 "cells": [
  {
   "cell_type": "markdown",
   "id": "69e4036c",
   "metadata": {},
   "source": [
    "> **Note:** This notebook is structured to match the graded exercises (2–13) exactly."
   ]
  },
  {
   "cell_type": "markdown",
   "id": "127d1044",
   "metadata": {},
   "source": [
    "## Exercise 2\n",
    "\n",
    "# Data Science Tools and Ecosystem"
   ]
  },
  {
   "cell_type": "markdown",
   "id": "93ab07ec",
   "metadata": {},
   "source": [
    "## Exercise 3\n",
    "\n",
    "In this notebook, Data Science Tools and Ecosystem are summarized."
   ]
  },
  {
   "cell_type": "markdown",
   "id": "a6b668bb",
   "metadata": {},
   "source": [
    "## Exercise 10\n",
    "\n",
    "**Objectives:**\n",
    "\n",
    "- List popular languages for Data Science\n",
    "- List commonly used libraries in Data Science\n",
    "- Create a table of open-source development tools\n",
    "- Demonstrate basic arithmetic expressions in Python\n",
    "- Convert minutes to hours using Python\n"
   ]
  },
  {
   "cell_type": "markdown",
   "id": "5fe2c549",
   "metadata": {},
   "source": [
    "## Exercise 4\n",
    "\n",
    "Some of the popular languages that Data Scientists use are:\n",
    "\n",
    "1. Python\n",
    "2. R\n",
    "3. SQL\n",
    "4. Julia\n"
   ]
  },
  {
   "cell_type": "markdown",
   "id": "60b59003",
   "metadata": {},
   "source": [
    "## Exercise 5\n",
    "\n",
    "Some of the commonly used libraries used by Data Scientists include:\n",
    "\n",
    "1. NumPy\n",
    "2. pandas\n",
    "3. Matplotlib\n",
    "4. Scikit-learn\n"
   ]
  },
  {
   "cell_type": "markdown",
   "id": "f396b21e",
   "metadata": {},
   "source": [
    "## Exercise 6\n",
    "\n",
    "| Data Science Tools |\n",
    "| --- |\n",
    "| JupyterLab |\n",
    "| RStudio |\n",
    "| Visual Studio Code |"
   ]
  },
  {
   "cell_type": "markdown",
   "id": "45aafe30",
   "metadata": {},
   "source": [
    "## Exercise 7\n",
    "\n",
    "### Below are a few examples of evaluating arithmetic expressions in Python."
   ]
  },
  {
   "cell_type": "code",
   "execution_count": 1,
   "id": "09fa17c1",
   "metadata": {
    "execution": {
     "iopub.execute_input": "2025-09-28T12:16:11.662289Z",
     "iopub.status.busy": "2025-09-28T12:16:11.661974Z",
     "iopub.status.idle": "2025-09-28T12:16:11.672891Z",
     "shell.execute_reply": "2025-09-28T12:16:11.671939Z"
    }
   },
   "outputs": [
    {
     "data": {
      "text/plain": [
       "17"
      ]
     },
     "execution_count": 1,
     "metadata": {},
     "output_type": "execute_result"
    }
   ],
   "source": [
    "## Exercise 8\n",
    "# This is a simple arithmetic expression to multiply then add integers.\n",
    "(3*4)+5"
   ]
  },
  {
   "cell_type": "code",
   "execution_count": 2,
   "id": "fdbce58b",
   "metadata": {
    "execution": {
     "iopub.execute_input": "2025-09-28T12:16:11.676411Z",
     "iopub.status.busy": "2025-09-28T12:16:11.676048Z",
     "iopub.status.idle": "2025-09-28T12:16:11.681009Z",
     "shell.execute_reply": "2025-09-28T12:16:11.680161Z"
    }
   },
   "outputs": [
    {
     "data": {
      "text/plain": [
       "3.3333333333333335"
      ]
     },
     "execution_count": 2,
     "metadata": {},
     "output_type": "execute_result"
    }
   ],
   "source": [
    "## Exercise 9\n",
    "# This will convert 200 minutes to hours by dividing by 60.\n",
    "200/60"
   ]
  },
  {
   "cell_type": "markdown",
   "id": "778e8d15",
   "metadata": {},
   "source": [
    "## Exercise 11\n",
    "\n",
    "## Author\n",
    "Jay"
   ]
  },
  {
   "cell_type": "markdown",
   "id": "aa3e1a3f",
   "metadata": {},
   "source": [
    "## Exercise 12\n",
    "\n",
    "**Share your notebook through GitHub**\n",
    "\n",
    "1. Download this notebook as `DataScienceEcosystem.ipynb`.\n",
    "2. Create a new public GitHub repository (or use an existing one).\n",
    "3. Upload the notebook file to the repository root.\n",
    "4. Copy the public URL to the notebook file in GitHub.\n",
    "\n",
    "**Paste your GitHub link here:**\n",
    "\n",
    "`https://github.com/<your-username>/<your-repo>/blob/main/DataScienceEcosystem.ipynb`\n"
   ]
  },
  {
   "cell_type": "markdown",
   "id": "5a832b3c",
   "metadata": {},
   "source": [
    "## Exercise 13\n",
    "\n",
    "**Screenshot Reminder:**\n",
    "\n",
    "- Take a screenshot of the first page of the notebook and save it as `1-notebook.png`.\n",
    "- Ensure the capture includes the title and visible content on the first page."
   ]
  },
  {
   "cell_type": "markdown",
   "id": "5da8b6a7",
   "metadata": {},
   "source": [
    "_Auto-prepared on: 2025-09-28T12:16:09_"
   ]
  }
 ],
 "metadata": {
  "kernelspec": {
   "display_name": "Python 3",
   "language": "python",
   "name": "python3"
  },
  "language_info": {
   "codemirror_mode": {
    "name": "ipython",
    "version": 3
   },
   "file_extension": ".py",
   "mimetype": "text/x-python",
   "name": "python",
   "nbconvert_exporter": "python",
   "pygments_lexer": "ipython3",
   "version": "3.11.8"
  }
 },
 "nbformat": 4,
 "nbformat_minor": 5
}
